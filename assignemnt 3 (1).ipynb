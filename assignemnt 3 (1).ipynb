{
 "cells": [
  {
   "cell_type": "code",
   "execution_count": 1,
   "id": "a9688f56",
   "metadata": {
    "scrolled": false
   },
   "outputs": [
    {
     "name": "stdout",
     "output_type": "stream",
     "text": [
      "Twinkle, twinkle, little star,\n",
      "\tHow I wonder what you are!\n",
      "\t\tUp above the world so high,\n",
      "\t\tLike a diamond in the sky.\n",
      "Twinkle, twinkle, little star,\n",
      "\tHow I wonder what you are \n"
     ]
    }
   ],
   "source": [
    "print(\"Twinkle, twinkle, little star,\\n\\tHow I wonder what you are!\\n\\t\\tUp above the world so high,\\n\\t\\tLike a diamond in the sky.\\nTwinkle, twinkle, little star,\\n\\tHow I wonder what you are \")"
   ]
  },
  {
   "cell_type": "code",
   "execution_count": 2,
   "id": "0e1b6bca",
   "metadata": {
    "scrolled": true
   },
   "outputs": [
    {
     "name": "stdout",
     "output_type": "stream",
     "text": [
      "Python version\n",
      "3.8.8 (default, Apr 13 2021, 15:08:03) [MSC v.1916 64 bit (AMD64)]\n",
      "Version info.\n",
      "sys.version_info(major=3, minor=8, micro=8, releaselevel='final', serial=0)\n"
     ]
    }
   ],
   "source": [
    "import sys\n",
    "print(\"Python version\")\n",
    "print(sys.version)\n",
    "print(\"Version info.\")\n",
    "print(sys.version_info)"
   ]
  },
  {
   "cell_type": "code",
   "execution_count": 3,
   "id": "28a6e3e9",
   "metadata": {},
   "outputs": [
    {
     "name": "stdout",
     "output_type": "stream",
     "text": [
      "Current date and time : \n",
      "2021-10-24 04:45:08\n"
     ]
    }
   ],
   "source": [
    "import datetime\n",
    "now = datetime.datetime.now()\n",
    "print (\"Current date and time : \")\n",
    "print (now.strftime(\"%Y-%m-%d %H:%M:%S\"))\n"
   ]
  },
  {
   "cell_type": "code",
   "execution_count": 13,
   "id": "21dea5ff",
   "metadata": {},
   "outputs": [
    {
     "name": "stdout",
     "output_type": "stream",
     "text": [
      "Input the radius of the circle : 55\n",
      "The area of the circle with radius 55.0 is: 9503.317777109125\n"
     ]
    }
   ],
   "source": [
    "from math import pi\n",
    "r = float(input (\"Input the radius of the circle : \"))\n",
    "print (\"The area of the circle with radius \" + str(r) + \" is: \" + str(pi * r**2))"
   ]
  },
  {
   "cell_type": "code",
   "execution_count": 12,
   "id": "19cebab9",
   "metadata": {},
   "outputs": [
    {
     "name": "stdout",
     "output_type": "stream",
     "text": [
      " Enter First Name :Zayan\n",
      " Enter Last Name :Zakir\n",
      "Hello ZayanZakir\n"
     ]
    }
   ],
   "source": [
    "FirstName =input(\" Enter First Name :\")\n",
    "LastName =input(\" Enter Last Name :\")\n",
    "print(\"Hello \" +  FirstName + LastName)"
   ]
  },
  {
   "cell_type": "code",
   "execution_count": 10,
   "id": "bb263b60",
   "metadata": {},
   "outputs": [
    {
     "name": "stdout",
     "output_type": "stream",
     "text": [
      "Enter Roll Number :5545354\n",
      "Enter English Marks :55\n",
      "Enter Maths Marks :66\n",
      "Enter Physics Marks :77\n",
      "Enter Islamiat Marks :88\n",
      "Enter Computer Marks :99\n",
      "Percentage : 77.0 %\n",
      "Your Grade is A\n"
     ]
    }
   ],
   "source": [
    "# STUDENT MARKSHEET\n",
    "int(input(\"Enter Roll Number :\"))\n",
    "English = int(input(\"Enter English Marks :\"))\n",
    "Maths = int(input(\"Enter Maths Marks :\"))\n",
    "Physics = int(input(\"Enter Physics Marks :\"))\n",
    "Islamiat = int(input(\"Enter Islamiat Marks :\"))\n",
    "Computer = int(input(\"Enter Computer Marks :\"))\n",
    "total=500\n",
    "per=((English + Maths + Physics + Islamiat + Computer)/total)*100\n",
    "print(\"Percentage :\" , round(float(per),2),\"%\")\n",
    "\n",
    "if per>=80 and per<=100:\n",
    "    print(\"Your Grade is A+\")\n",
    "elif per>=70 and per<80:\n",
    "    print(\"Your Grade is A\")\n",
    "elif per>=60 and per<70:\n",
    "    print(\"Your Grade is B\")\n",
    "elif per>=50 and per<60:\n",
    "    print(\"Your Grade is C\")\n",
    "elif per>=51 and per<61:\n",
    "    print(\"Your Grade is C1\")\n",
    "elif avg>=41 and avg<51:\n",
    "    print(\"Your Grade is C2\")\n",
    "elif avg>=33 and avg<41:\n",
    "    print(\"Your Grade is D\")\n",
    "elif avg>=21 and avg<33:\n",
    "    print(\"Your Grade is E1\")\n",
    "elif avg>=0 and avg<21:\n",
    "    print(\"Your Grade is E2\")\n",
    "else:\n",
    "    print(\"Invalid Input!\")"
   ]
  },
  {
   "cell_type": "code",
   "execution_count": 11,
   "id": "ac6cdc07",
   "metadata": {},
   "outputs": [
    {
     "name": "stdout",
     "output_type": "stream",
     "text": [
      "Enter a number: 5\n",
      "This is an odd number.\n"
     ]
    }
   ],
   "source": [
    "number = int(input(\"Enter a number: \"))\n",
    "mod = number % 2\n",
    "if mod > 0:\n",
    "    print(\"This is an odd number.\")\n",
    "else:\n",
    "    print(\"This is an even number.\")"
   ]
  },
  {
   "cell_type": "code",
   "execution_count": 14,
   "id": "9b7c3e5d",
   "metadata": {},
   "outputs": [
    {
     "name": "stdout",
     "output_type": "stream",
     "text": [
      "5\n"
     ]
    }
   ],
   "source": [
    "inp_lst = ['zayan','ali','zakir','jasir','sheri']\n",
    "size = len(inp_lst)\n",
    "print(size)"
   ]
  },
  {
   "cell_type": "code",
   "execution_count": 16,
   "id": "902d91f8",
   "metadata": {},
   "outputs": [
    {
     "name": "stdout",
     "output_type": "stream",
     "text": [
      "-3\n"
     ]
    }
   ],
   "source": [
    "def sum_list(items):\n",
    "    sum_numbers = 0\n",
    "    for x in items:\n",
    "        sum_numbers += x\n",
    "    return sum_numbers\n",
    "print(sum_list([1,2,5,-13,10,-8]))"
   ]
  },
  {
   "cell_type": "code",
   "execution_count": 18,
   "id": "efc3edb3",
   "metadata": {},
   "outputs": [
    {
     "name": "stdout",
     "output_type": "stream",
     "text": [
      "4\n"
     ]
    }
   ],
   "source": [
    "def max_num_in_list( list ):\n",
    "    max = list[ 0 ]\n",
    "    for a in list:\n",
    "        if a > max:\n",
    "            max = a\n",
    "    return max\n",
    "print(max_num_in_list([1, 2, 4, -8, 0]))"
   ]
  },
  {
   "cell_type": "code",
   "execution_count": 19,
   "id": "896d3a37",
   "metadata": {},
   "outputs": [
    {
     "name": "stdout",
     "output_type": "stream",
     "text": [
      "1\n",
      "1\n",
      "2\n",
      "3\n"
     ]
    }
   ],
   "source": [
    "a = [1, 1, 2, 3, 5, 8, 13, 21, 34, 55, 89]\n",
    "for i in a:\n",
    "    if i < 5:\n",
    "        print(i)"
   ]
  },
  {
   "cell_type": "code",
   "execution_count": null,
   "id": "438468c5",
   "metadata": {},
   "outputs": [],
   "source": []
  }
 ],
 "metadata": {
  "kernelspec": {
   "display_name": "Python 3",
   "language": "python",
   "name": "python3"
  },
  "language_info": {
   "codemirror_mode": {
    "name": "ipython",
    "version": 3
   },
   "file_extension": ".py",
   "mimetype": "text/x-python",
   "name": "python",
   "nbconvert_exporter": "python",
   "pygments_lexer": "ipython3",
   "version": "3.8.8"
  }
 },
 "nbformat": 4,
 "nbformat_minor": 5
}
